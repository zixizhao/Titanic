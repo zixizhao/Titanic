{
 "cells": [
  {
   "cell_type": "code",
   "execution_count": 1,
   "id": "430ed8d0",
   "metadata": {
    "_cell_guid": "b1076dfc-b9ad-4769-8c92-a6c4dae69d19",
    "_uuid": "8f2839f25d086af736a60e9eeb907d3b93b6e0e5",
    "execution": {
     "iopub.execute_input": "2022-04-16T19:02:52.306754Z",
     "iopub.status.busy": "2022-04-16T19:02:52.305514Z",
     "iopub.status.idle": "2022-04-16T19:02:52.315281Z",
     "shell.execute_reply": "2022-04-16T19:02:52.316335Z",
     "shell.execute_reply.started": "2022-04-16T17:45:20.507375Z"
    },
    "papermill": {
     "duration": 0.052017,
     "end_time": "2022-04-16T19:02:52.317160",
     "exception": false,
     "start_time": "2022-04-16T19:02:52.265143",
     "status": "completed"
    },
    "tags": []
   },
   "outputs": [
    {
     "name": "stdout",
     "output_type": "stream",
     "text": [
      "/kaggle/input/titanic/train.csv\n",
      "/kaggle/input/titanic/test.csv\n",
      "/kaggle/input/titanic/gender_submission.csv\n"
     ]
    }
   ],
   "source": [
    "# This Python 3 environment comes with many helpful analytics libraries installed\n",
    "# It is defined by the kaggle/python Docker image: https://github.com/kaggle/docker-python\n",
    "# For example, here's several helpful packages to load\n",
    "\n",
    "import numpy as np # linear algebra\n",
    "import pandas as pd # data processing, CSV file I/O (e.g. pd.read_csv)\n",
    "\n",
    "# Input data files are available in the read-only \"../input/\" directory\n",
    "# For example, running this (by clicking run or pressing Shift+Enter) will list all files under the input directory\n",
    "\n",
    "import os\n",
    "for dirname, _, filenames in os.walk('/kaggle/input'):\n",
    "    for filename in filenames:\n",
    "        print(os.path.join(dirname, filename))\n",
    "\n",
    "# You can write up to 20GB to the current directory (/kaggle/working/) that gets preserved as output when you create a version using \"Save & Run All\" \n",
    "# You can also write temporary files to /kaggle/temp/, but they won't be saved outside of the current session"
   ]
  },
  {
   "cell_type": "markdown",
   "id": "0dc7d70b",
   "metadata": {
    "papermill": {
     "duration": 0.031766,
     "end_time": "2022-04-16T19:02:52.381793",
     "exception": false,
     "start_time": "2022-04-16T19:02:52.350027",
     "status": "completed"
    },
    "tags": []
   },
   "source": [
    "# Random Forest from the Tutorial"
   ]
  },
  {
   "cell_type": "code",
   "execution_count": 2,
   "id": "09f58dd9",
   "metadata": {
    "execution": {
     "iopub.execute_input": "2022-04-16T19:02:52.450734Z",
     "iopub.status.busy": "2022-04-16T19:02:52.450010Z",
     "iopub.status.idle": "2022-04-16T19:02:52.500362Z",
     "shell.execute_reply": "2022-04-16T19:02:52.500916Z",
     "shell.execute_reply.started": "2022-04-16T17:45:24.331571Z"
    },
    "papermill": {
     "duration": 0.088031,
     "end_time": "2022-04-16T19:02:52.501121",
     "exception": false,
     "start_time": "2022-04-16T19:02:52.413090",
     "status": "completed"
    },
    "tags": []
   },
   "outputs": [
    {
     "data": {
      "text/html": [
       "<div>\n",
       "<style scoped>\n",
       "    .dataframe tbody tr th:only-of-type {\n",
       "        vertical-align: middle;\n",
       "    }\n",
       "\n",
       "    .dataframe tbody tr th {\n",
       "        vertical-align: top;\n",
       "    }\n",
       "\n",
       "    .dataframe thead th {\n",
       "        text-align: right;\n",
       "    }\n",
       "</style>\n",
       "<table border=\"1\" class=\"dataframe\">\n",
       "  <thead>\n",
       "    <tr style=\"text-align: right;\">\n",
       "      <th></th>\n",
       "      <th>PassengerId</th>\n",
       "      <th>Pclass</th>\n",
       "      <th>Name</th>\n",
       "      <th>Sex</th>\n",
       "      <th>Age</th>\n",
       "      <th>SibSp</th>\n",
       "      <th>Parch</th>\n",
       "      <th>Ticket</th>\n",
       "      <th>Fare</th>\n",
       "      <th>Cabin</th>\n",
       "      <th>Embarked</th>\n",
       "    </tr>\n",
       "  </thead>\n",
       "  <tbody>\n",
       "    <tr>\n",
       "      <th>0</th>\n",
       "      <td>892</td>\n",
       "      <td>3</td>\n",
       "      <td>Kelly, Mr. James</td>\n",
       "      <td>male</td>\n",
       "      <td>34.5</td>\n",
       "      <td>0</td>\n",
       "      <td>0</td>\n",
       "      <td>330911</td>\n",
       "      <td>7.8292</td>\n",
       "      <td>NaN</td>\n",
       "      <td>Q</td>\n",
       "    </tr>\n",
       "    <tr>\n",
       "      <th>1</th>\n",
       "      <td>893</td>\n",
       "      <td>3</td>\n",
       "      <td>Wilkes, Mrs. James (Ellen Needs)</td>\n",
       "      <td>female</td>\n",
       "      <td>47.0</td>\n",
       "      <td>1</td>\n",
       "      <td>0</td>\n",
       "      <td>363272</td>\n",
       "      <td>7.0000</td>\n",
       "      <td>NaN</td>\n",
       "      <td>S</td>\n",
       "    </tr>\n",
       "    <tr>\n",
       "      <th>2</th>\n",
       "      <td>894</td>\n",
       "      <td>2</td>\n",
       "      <td>Myles, Mr. Thomas Francis</td>\n",
       "      <td>male</td>\n",
       "      <td>62.0</td>\n",
       "      <td>0</td>\n",
       "      <td>0</td>\n",
       "      <td>240276</td>\n",
       "      <td>9.6875</td>\n",
       "      <td>NaN</td>\n",
       "      <td>Q</td>\n",
       "    </tr>\n",
       "    <tr>\n",
       "      <th>3</th>\n",
       "      <td>895</td>\n",
       "      <td>3</td>\n",
       "      <td>Wirz, Mr. Albert</td>\n",
       "      <td>male</td>\n",
       "      <td>27.0</td>\n",
       "      <td>0</td>\n",
       "      <td>0</td>\n",
       "      <td>315154</td>\n",
       "      <td>8.6625</td>\n",
       "      <td>NaN</td>\n",
       "      <td>S</td>\n",
       "    </tr>\n",
       "    <tr>\n",
       "      <th>4</th>\n",
       "      <td>896</td>\n",
       "      <td>3</td>\n",
       "      <td>Hirvonen, Mrs. Alexander (Helga E Lindqvist)</td>\n",
       "      <td>female</td>\n",
       "      <td>22.0</td>\n",
       "      <td>1</td>\n",
       "      <td>1</td>\n",
       "      <td>3101298</td>\n",
       "      <td>12.2875</td>\n",
       "      <td>NaN</td>\n",
       "      <td>S</td>\n",
       "    </tr>\n",
       "  </tbody>\n",
       "</table>\n",
       "</div>"
      ],
      "text/plain": [
       "   PassengerId  Pclass                                          Name     Sex  \\\n",
       "0          892       3                              Kelly, Mr. James    male   \n",
       "1          893       3              Wilkes, Mrs. James (Ellen Needs)  female   \n",
       "2          894       2                     Myles, Mr. Thomas Francis    male   \n",
       "3          895       3                              Wirz, Mr. Albert    male   \n",
       "4          896       3  Hirvonen, Mrs. Alexander (Helga E Lindqvist)  female   \n",
       "\n",
       "    Age  SibSp  Parch   Ticket     Fare Cabin Embarked  \n",
       "0  34.5      0      0   330911   7.8292   NaN        Q  \n",
       "1  47.0      1      0   363272   7.0000   NaN        S  \n",
       "2  62.0      0      0   240276   9.6875   NaN        Q  \n",
       "3  27.0      0      0   315154   8.6625   NaN        S  \n",
       "4  22.0      1      1  3101298  12.2875   NaN        S  "
      ]
     },
     "execution_count": 2,
     "metadata": {},
     "output_type": "execute_result"
    }
   ],
   "source": [
    "train_data = pd.read_csv(\"/kaggle/input/titanic/train.csv\")\n",
    "train_data.head()\n",
    "\n",
    "test_data = pd.read_csv(\"/kaggle/input/titanic/test.csv\")\n",
    "test_data.head()"
   ]
  },
  {
   "cell_type": "code",
   "execution_count": 3,
   "id": "a14a4969",
   "metadata": {
    "execution": {
     "iopub.execute_input": "2022-04-16T19:02:52.585184Z",
     "iopub.status.busy": "2022-04-16T19:02:52.570629Z",
     "iopub.status.idle": "2022-04-16T19:02:52.588660Z",
     "shell.execute_reply": "2022-04-16T19:02:52.587750Z",
     "shell.execute_reply.started": "2022-04-16T17:45:26.626226Z"
    },
    "papermill": {
     "duration": 0.055681,
     "end_time": "2022-04-16T19:02:52.588820",
     "exception": false,
     "start_time": "2022-04-16T19:02:52.533139",
     "status": "completed"
    },
    "tags": []
   },
   "outputs": [
    {
     "name": "stdout",
     "output_type": "stream",
     "text": [
      "% of women who survived: 0.7420382165605095\n"
     ]
    }
   ],
   "source": [
    "women = train_data.loc[train_data.Sex == 'female'][\"Survived\"]\n",
    "rate_women = sum(women)/len(women)\n",
    "\n",
    "print(\"% of women who survived:\", rate_women)"
   ]
  },
  {
   "cell_type": "code",
   "execution_count": 4,
   "id": "0123f1f7",
   "metadata": {
    "execution": {
     "iopub.execute_input": "2022-04-16T19:02:52.658097Z",
     "iopub.status.busy": "2022-04-16T19:02:52.657319Z",
     "iopub.status.idle": "2022-04-16T19:02:52.663085Z",
     "shell.execute_reply": "2022-04-16T19:02:52.663654Z",
     "shell.execute_reply.started": "2022-04-16T02:27:48.743033Z"
    },
    "papermill": {
     "duration": 0.041703,
     "end_time": "2022-04-16T19:02:52.663840",
     "exception": false,
     "start_time": "2022-04-16T19:02:52.622137",
     "status": "completed"
    },
    "tags": []
   },
   "outputs": [
    {
     "name": "stdout",
     "output_type": "stream",
     "text": [
      "% of men who survived: 0.18890814558058924\n"
     ]
    }
   ],
   "source": [
    "men = train_data.loc[train_data.Sex == 'male'][\"Survived\"]\n",
    "rate_men = sum(men)/len(men)\n",
    "\n",
    "print(\"% of men who survived:\", rate_men)"
   ]
  },
  {
   "cell_type": "code",
   "execution_count": 5,
   "id": "81011a93",
   "metadata": {
    "execution": {
     "iopub.execute_input": "2022-04-16T19:02:52.732608Z",
     "iopub.status.busy": "2022-04-16T19:02:52.731884Z",
     "iopub.status.idle": "2022-04-16T19:02:54.757190Z",
     "shell.execute_reply": "2022-04-16T19:02:54.756353Z",
     "shell.execute_reply.started": "2022-04-16T17:45:36.003245Z"
    },
    "papermill": {
     "duration": 2.060724,
     "end_time": "2022-04-16T19:02:54.757361",
     "exception": false,
     "start_time": "2022-04-16T19:02:52.696637",
     "status": "completed"
    },
    "tags": []
   },
   "outputs": [
    {
     "name": "stdout",
     "output_type": "stream",
     "text": [
      "Your submission was successfully saved!\n"
     ]
    }
   ],
   "source": [
    "from sklearn.ensemble import RandomForestClassifier\n",
    "\n",
    "y = train_data[\"Survived\"]\n",
    "\n",
    "features = [\"Pclass\", \"Sex\", \"SibSp\", \"Parch\"]\n",
    "X = pd.get_dummies(train_data[features])\n",
    "X_test = pd.get_dummies(test_data[features])\n",
    "\n",
    "model = RandomForestClassifier(n_estimators=100, max_depth=5, random_state=1)\n",
    "model.fit(X, y)\n",
    "predictions = model.predict(X_test)\n",
    "\n",
    "output = pd.DataFrame({'PassengerId': test_data.PassengerId, 'Survived': predictions})\n",
    "output.to_csv('submission.csv', index=False)\n",
    "print(\"Your submission was successfully saved!\")"
   ]
  },
  {
   "cell_type": "markdown",
   "id": "75a7e905",
   "metadata": {
    "execution": {
     "iopub.execute_input": "2022-04-13T15:53:27.015429Z",
     "iopub.status.busy": "2022-04-13T15:53:27.014414Z",
     "iopub.status.idle": "2022-04-13T15:53:27.040773Z",
     "shell.execute_reply": "2022-04-13T15:53:27.039996Z",
     "shell.execute_reply.started": "2022-04-13T15:53:27.015245Z"
    },
    "papermill": {
     "duration": 0.0336,
     "end_time": "2022-04-16T19:02:54.824716",
     "exception": false,
     "start_time": "2022-04-16T19:02:54.791116",
     "status": "completed"
    },
    "tags": []
   },
   "source": [
    "## Eavluate RF model performance through crossvalidation"
   ]
  },
  {
   "cell_type": "code",
   "execution_count": 6,
   "id": "6135a4bd",
   "metadata": {
    "execution": {
     "iopub.execute_input": "2022-04-16T19:02:54.900000Z",
     "iopub.status.busy": "2022-04-16T19:02:54.899268Z",
     "iopub.status.idle": "2022-04-16T19:02:56.948413Z",
     "shell.execute_reply": "2022-04-16T19:02:56.947434Z",
     "shell.execute_reply.started": "2022-04-16T02:27:49.048035Z"
    },
    "papermill": {
     "duration": 2.091774,
     "end_time": "2022-04-16T19:02:56.948554",
     "exception": false,
     "start_time": "2022-04-16T19:02:54.856780",
     "status": "completed"
    },
    "tags": []
   },
   "outputs": [
    {
     "name": "stdout",
     "output_type": "stream",
     "text": [
      "CV accuracy scores: [0.75555556 0.78651685 0.76404494 0.84269663 0.82022472 0.75280899\n",
      " 0.80898876 0.74157303 0.83146067 0.80898876]\n",
      "CV accuracy: 0.791 +/- 0.034\n"
     ]
    }
   ],
   "source": [
    "from sklearn.model_selection import StratifiedKFold, cross_val_score\n",
    "\n",
    "# kfold = StratifiedKFold(n_splits = 10).split(X,y)\n",
    "# scores = []\n",
    "# for k,(train,test) in enumerate(kfold):\n",
    "#     model.fit(X.to_numpy()[train,:],y.to_numpy()[train])\n",
    "#     score = model.score(X.to_numpy()[test],y.to_numpy()[test])\n",
    "#     scores.append(score)\n",
    "#     print('Fold: %2d, Class dist: %s, Acc: %.3f'%(k+1,np.bincount(y[train]),score))\n",
    "# print('CV accuracy %.3f +/- %.3f'%(np.mean(scores),np.std(scores)))\n",
    "model = RandomForestClassifier(n_estimators=100, max_depth=5, random_state=1)\n",
    "scores2 = cross_val_score(estimator = model,\n",
    "                        X =X,\n",
    "                        y = y,\n",
    "                        cv = 10,\n",
    "                        n_jobs = 1)\n",
    "print('CV accuracy scores: %s' %scores2)\n",
    "print('CV accuracy: %.3f +/- %.3f' % (np.mean(scores2),np.std(scores2)))"
   ]
  },
  {
   "cell_type": "code",
   "execution_count": 7,
   "id": "1e0abf59",
   "metadata": {
    "execution": {
     "iopub.execute_input": "2022-04-16T19:02:57.016597Z",
     "iopub.status.busy": "2022-04-16T19:02:57.010983Z",
     "iopub.status.idle": "2022-04-16T19:03:12.201119Z",
     "shell.execute_reply": "2022-04-16T19:03:12.200466Z",
     "shell.execute_reply.started": "2022-04-16T02:27:51.069604Z"
    },
    "papermill": {
     "duration": 15.231087,
     "end_time": "2022-04-16T19:03:12.201273",
     "exception": false,
     "start_time": "2022-04-16T19:02:56.970186",
     "status": "completed"
    },
    "tags": []
   },
   "outputs": [],
   "source": [
    "from sklearn.model_selection import learning_curve\n",
    "model = RandomForestClassifier(n_estimators=100, max_depth=5, random_state=1)\n",
    "\n",
    "train_sizes, train_scores, test_scores = learning_curve(estimator = model,\n",
    "                                                       X=X,\n",
    "                                                       y=y,\n",
    "                                                       train_sizes = np.linspace(0.1,1,10),\n",
    "                                                       cv=10,\n",
    "                                                       n_jobs = 1)"
   ]
  },
  {
   "cell_type": "markdown",
   "id": "955a382b",
   "metadata": {
    "papermill": {
     "duration": 0.034475,
     "end_time": "2022-04-16T19:03:12.268383",
     "exception": false,
     "start_time": "2022-04-16T19:03:12.233908",
     "status": "completed"
    },
    "tags": []
   },
   "source": [
    "The learning curve below shows signs of **high bias and under-fitting**."
   ]
  },
  {
   "cell_type": "code",
   "execution_count": 8,
   "id": "28e5ffcf",
   "metadata": {
    "execution": {
     "iopub.execute_input": "2022-04-16T19:03:12.346263Z",
     "iopub.status.busy": "2022-04-16T19:03:12.345511Z",
     "iopub.status.idle": "2022-04-16T19:03:12.576767Z",
     "shell.execute_reply": "2022-04-16T19:03:12.577323Z",
     "shell.execute_reply.started": "2022-04-16T02:28:12.332864Z"
    },
    "papermill": {
     "duration": 0.276828,
     "end_time": "2022-04-16T19:03:12.577498",
     "exception": false,
     "start_time": "2022-04-16T19:03:12.300670",
     "status": "completed"
    },
    "tags": []
   },
   "outputs": [
    {
     "data": {
      "image/png": "[encoded data removed]",
      "text/plain": [
       "<Figure size 432x288 with 1 Axes>"
      ]
     },
     "metadata": {
      "needs_background": "light"
     },
     "output_type": "display_data"
    }
   ],
   "source": [
    "train_mean = np.mean(train_scores,axis=1)\n",
    "train_std = np.std(train_scores,axis = 1)\n",
    "test_mean = np.mean(test_scores,axis = 1)\n",
    "test_std = np.std(test_scores,axis = 1)\n",
    "\n",
    "from matplotlib import pyplot as plt\n",
    "plt.plot(train_sizes, train_mean,\n",
    "         color = 'blue',marker = 'o',\n",
    "        markersize = 5, label = 'Training accuracy')\n",
    "\n",
    "plt.fill_between(train_sizes,\n",
    "                train_mean + train_std,\n",
    "                train_mean - train_std,\n",
    "                alpha = 0.15, color = 'blue')\n",
    "\n",
    "plt.plot(train_sizes, test_mean,\n",
    "         color = 'green',marker = 's',\n",
    "         markersize = 5, linestyle = '--', \n",
    "         label = 'Validation accuracy')\n",
    "\n",
    "plt.fill_between(train_sizes,\n",
    "                test_mean + test_std,\n",
    "                test_mean - test_std,\n",
    "                alpha = 0.15, color = 'green')\n",
    "\n",
    "plt.grid()\n",
    "plt.xlabel('Number of training examples')\n",
    "plt.ylabel('Accuracy')\n",
    "plt.legend(loc = 'best')\n",
    "plt.ylim([0.7,1])\n",
    "plt.show()"
   ]
  },
  {
   "cell_type": "markdown",
   "id": "3b87e3f8",
   "metadata": {
    "papermill": {
     "duration": 0.033724,
     "end_time": "2022-04-16T19:03:12.645204",
     "exception": false,
     "start_time": "2022-04-16T19:03:12.611480",
     "status": "completed"
    },
    "tags": []
   },
   "source": [
    "## Invetsigate effects of RF tree # and max depth on the model accuracy"
   ]
  },
  {
   "cell_type": "code",
   "execution_count": 9,
   "id": "998dc88f",
   "metadata": {
    "execution": {
     "iopub.execute_input": "2022-04-16T19:03:12.723776Z",
     "iopub.status.busy": "2022-04-16T19:03:12.716292Z",
     "iopub.status.idle": "2022-04-16T19:03:12.725717Z",
     "shell.execute_reply": "2022-04-16T19:03:12.726351Z",
     "shell.execute_reply.started": "2022-04-16T02:28:12.634589Z"
    },
    "papermill": {
     "duration": 0.047283,
     "end_time": "2022-04-16T19:03:12.726532",
     "exception": false,
     "start_time": "2022-04-16T19:03:12.679249",
     "status": "completed"
    },
    "tags": []
   },
   "outputs": [],
   "source": [
    "from sklearn.model_selection import validation_curve\n",
    "from matplotlib import pyplot as plt\n",
    "\n",
    "model = RandomForestClassifier(n_estimators=100, max_depth=5, random_state=1)\n",
    "\n",
    "def plot_validation_curve(param_range,param_name,train_scores,test_scores):\n",
    "    train_mean = np.mean(train_scores,axis=1)\n",
    "    train_std = np.std(train_scores,axis = 1)\n",
    "    test_mean = np.mean(test_scores,axis = 1)\n",
    "    test_std = np.std(test_scores,axis = 1)\n",
    "\n",
    "    plt.plot(param_range, train_mean,\n",
    "             color = 'blue',marker = 'o',\n",
    "            markersize = 5, label = 'Training accuracy')\n",
    "\n",
    "    plt.fill_between(param_range,\n",
    "                    train_mean + train_std,\n",
    "                    train_mean - train_std,\n",
    "                    alpha = 0.15, color = 'blue')\n",
    "\n",
    "    plt.plot(param_range, test_mean,\n",
    "             color = 'green',marker = 's',\n",
    "             markersize = 5, linestyle = '--', \n",
    "             label = 'Validation accuracy')\n",
    "\n",
    "    plt.fill_between(param_range,\n",
    "                    test_mean + test_std,\n",
    "                    test_mean - test_std,\n",
    "                    alpha = 0.15, color = 'green')\n",
    "\n",
    "    plt.grid()\n",
    "    plt.xlabel('Parameter:'+param_name)\n",
    "    plt.ylabel('Accuracy')\n",
    "    plt.legend(loc = 'best')\n",
    "    plt.ylim([0.7,1])\n",
    "    plt.show()\n",
    "    \n"
   ]
  },
  {
   "cell_type": "code",
   "execution_count": 10,
   "id": "9ec57096",
   "metadata": {
    "execution": {
     "iopub.execute_input": "2022-04-16T19:03:12.800105Z",
     "iopub.status.busy": "2022-04-16T19:03:12.799398Z",
     "iopub.status.idle": "2022-04-16T19:04:02.717070Z",
     "shell.execute_reply": "2022-04-16T19:04:02.717641Z",
     "shell.execute_reply.started": "2022-04-16T02:28:12.648466Z"
    },
    "papermill": {
     "duration": 49.955631,
     "end_time": "2022-04-16T19:04:02.717817",
     "exception": false,
     "start_time": "2022-04-16T19:03:12.762186",
     "status": "completed"
    },
    "tags": []
   },
   "outputs": [
    {
     "data": {
      "image/png": "[encoded data removed]",
      "text/plain": [
       "<Figure size 432x288 with 1 Axes>"
      ]
     },
     "metadata": {
      "needs_background": "light"
     },
     "output_type": "display_data"
    }
   ],
   "source": [
    "param_range_treenum = np.linspace(50,1000,5).astype(int)\n",
    "#param_range_treenum = [50,100,150,200]\n",
    "train_scores,test_scores = validation_curve(estimator = model,\n",
    "                                           X = X,\n",
    "                                           y = y,\n",
    "                                           param_name ='n_estimators',\n",
    "                                           param_range = param_range_treenum,\n",
    "                                           cv=10)\n",
    "plot_validation_curve(param_range_treenum, 'number of decision trees',\n",
    "                      train_scores,test_scores)"
   ]
  },
  {
   "cell_type": "code",
   "execution_count": 11,
   "id": "3c3ba8c6",
   "metadata": {
    "execution": {
     "iopub.execute_input": "2022-04-16T19:04:02.800012Z",
     "iopub.status.busy": "2022-04-16T19:04:02.799246Z",
     "iopub.status.idle": "2022-04-16T19:04:14.293131Z",
     "shell.execute_reply": "2022-04-16T19:04:14.293774Z",
     "shell.execute_reply.started": "2022-04-16T02:29:07.926860Z"
    },
    "papermill": {
     "duration": 11.540335,
     "end_time": "2022-04-16T19:04:14.294093",
     "exception": false,
     "start_time": "2022-04-16T19:04:02.753758",
     "status": "completed"
    },
    "tags": []
   },
   "outputs": [
    {
     "data": {
      "image/png": "[encoded data removed]",
      "text/plain": [
       "<Figure size 432x288 with 1 Axes>"
      ]
     },
     "metadata": {
      "needs_background": "light"
     },
     "output_type": "display_data"
    }
   ],
   "source": [
    "param_range_maxdepth = np.linspace(3,10,7).astype(int)\n",
    "#param_range_treenum = [50,100,150,200]\n",
    "model = RandomForestClassifier(n_estimators=100, max_depth=5, random_state=1)\n",
    "train_scores,test_scores = validation_curve(estimator = model,\n",
    "                                           X = X,\n",
    "                                           y = y,\n",
    "                                           param_name ='max_depth',\n",
    "                                           param_range = param_range_maxdepth,\n",
    "                                           cv=10)\n",
    "plot_validation_curve(param_range_maxdepth, 'max depth',\n",
    "                      train_scores,test_scores)"
   ]
  },
  {
   "cell_type": "markdown",
   "id": "97c4e6be",
   "metadata": {
    "papermill": {
     "duration": 0.033974,
     "end_time": "2022-04-16T19:04:14.364159",
     "exception": false,
     "start_time": "2022-04-16T19:04:14.330185",
     "status": "completed"
    },
    "tags": []
   },
   "source": [
    "Neither max depth nor the number of decision tree seems to improve the model accuracy much. Especially, as the max depth increases, the gap between training accuracy and validation accuracy widens, indicating the rules learned at the deeper branches do not generalize well."
   ]
  },
  {
   "cell_type": "markdown",
   "id": "f7902ab2",
   "metadata": {
    "papermill": {
     "duration": 0.024948,
     "end_time": "2022-04-16T19:04:14.418350",
     "exception": false,
     "start_time": "2022-04-16T19:04:14.393402",
     "status": "completed"
    },
    "tags": []
   },
   "source": [
    "## Data preprocessing and Feature engineering\n",
    "\n",
    "This section, I re-preprocess the features. **Added** \"Age\", \"Fare\", \"Embarked\", and \"InACabin\" as **new features. Improved accuracy from 0.791 to 0.826+/- 0.049.** \n",
    "\n",
    "The orgininal model so far uses the original form of 4 features: class, sex, sibsp, parch. We probably want to use other features too. Let's look at all the features first. \n",
    "\n"
   ]
  },
  {
   "cell_type": "code",
   "execution_count": 12,
   "id": "02c7dc61",
   "metadata": {
    "execution": {
     "iopub.execute_input": "2022-04-16T19:04:14.473733Z",
     "iopub.status.busy": "2022-04-16T19:04:14.473076Z",
     "iopub.status.idle": "2022-04-16T19:04:14.476965Z",
     "shell.execute_reply": "2022-04-16T19:04:14.477479Z",
     "shell.execute_reply.started": "2022-04-16T02:29:23.402975Z"
    },
    "papermill": {
     "duration": 0.033592,
     "end_time": "2022-04-16T19:04:14.477650",
     "exception": false,
     "start_time": "2022-04-16T19:04:14.444058",
     "status": "completed"
    },
    "tags": []
   },
   "outputs": [],
   "source": [
    "# Age, Cabin and Embarked columns have nan values. I don't want to eliminate those rows\n",
    "# as NAN may contain information.\n",
    "# print(train_data.isnull().sum())"
   ]
  },
  {
   "cell_type": "code",
   "execution_count": 13,
   "id": "c0649adc",
   "metadata": {
    "execution": {
     "iopub.execute_input": "2022-04-16T19:04:14.538517Z",
     "iopub.status.busy": "2022-04-16T19:04:14.537503Z",
     "iopub.status.idle": "2022-04-16T19:04:14.573538Z",
     "shell.execute_reply": "2022-04-16T19:04:14.574226Z",
     "shell.execute_reply.started": "2022-04-16T17:45:49.254535Z"
    },
    "papermill": {
     "duration": 0.071307,
     "end_time": "2022-04-16T19:04:14.574422",
     "exception": false,
     "start_time": "2022-04-16T19:04:14.503115",
     "status": "completed"
    },
    "tags": []
   },
   "outputs": [
    {
     "name": "stdout",
     "output_type": "stream",
     "text": [
      "Training data size is (891, 5)\n"
     ]
    },
    {
     "data": {
      "text/html": [
       "<div>\n",
       "<style scoped>\n",
       "    .dataframe tbody tr th:only-of-type {\n",
       "        vertical-align: middle;\n",
       "    }\n",
       "\n",
       "    .dataframe tbody tr th {\n",
       "        vertical-align: top;\n",
       "    }\n",
       "\n",
       "    .dataframe thead th {\n",
       "        text-align: right;\n",
       "    }\n",
       "</style>\n",
       "<table border=\"1\" class=\"dataframe\">\n",
       "  <thead>\n",
       "    <tr style=\"text-align: right;\">\n",
       "      <th></th>\n",
       "      <th>Pclass</th>\n",
       "      <th>Age</th>\n",
       "      <th>SibSp</th>\n",
       "      <th>Parch</th>\n",
       "      <th>Fare</th>\n",
       "      <th>InACabin</th>\n",
       "      <th>Sex_female</th>\n",
       "      <th>Sex_male</th>\n",
       "      <th>Cabin_A10</th>\n",
       "      <th>Cabin_A14</th>\n",
       "      <th>...</th>\n",
       "      <th>Cabin_F G73</th>\n",
       "      <th>Cabin_F2</th>\n",
       "      <th>Cabin_F33</th>\n",
       "      <th>Cabin_F38</th>\n",
       "      <th>Cabin_F4</th>\n",
       "      <th>Cabin_G6</th>\n",
       "      <th>Cabin_T</th>\n",
       "      <th>Embarked_C</th>\n",
       "      <th>Embarked_Q</th>\n",
       "      <th>Embarked_S</th>\n",
       "    </tr>\n",
       "  </thead>\n",
       "  <tbody>\n",
       "    <tr>\n",
       "      <th>0</th>\n",
       "      <td>3</td>\n",
       "      <td>22.0</td>\n",
       "      <td>1</td>\n",
       "      <td>0</td>\n",
       "      <td>7.2500</td>\n",
       "      <td>0</td>\n",
       "      <td>0</td>\n",
       "      <td>1</td>\n",
       "      <td>0</td>\n",
       "      <td>0</td>\n",
       "      <td>...</td>\n",
       "      <td>0</td>\n",
       "      <td>0</td>\n",
       "      <td>0</td>\n",
       "      <td>0</td>\n",
       "      <td>0</td>\n",
       "      <td>0</td>\n",
       "      <td>0</td>\n",
       "      <td>0</td>\n",
       "      <td>0</td>\n",
       "      <td>1</td>\n",
       "    </tr>\n",
       "    <tr>\n",
       "      <th>1</th>\n",
       "      <td>1</td>\n",
       "      <td>38.0</td>\n",
       "      <td>1</td>\n",
       "      <td>0</td>\n",
       "      <td>71.2833</td>\n",
       "      <td>1</td>\n",
       "      <td>1</td>\n",
       "      <td>0</td>\n",
       "      <td>0</td>\n",
       "      <td>0</td>\n",
       "      <td>...</td>\n",
       "      <td>0</td>\n",
       "      <td>0</td>\n",
       "      <td>0</td>\n",
       "      <td>0</td>\n",
       "      <td>0</td>\n",
       "      <td>0</td>\n",
       "      <td>0</td>\n",
       "      <td>1</td>\n",
       "      <td>0</td>\n",
       "      <td>0</td>\n",
       "    </tr>\n",
       "    <tr>\n",
       "      <th>2</th>\n",
       "      <td>3</td>\n",
       "      <td>26.0</td>\n",
       "      <td>0</td>\n",
       "      <td>0</td>\n",
       "      <td>7.9250</td>\n",
       "      <td>0</td>\n",
       "      <td>1</td>\n",
       "      <td>0</td>\n",
       "      <td>0</td>\n",
       "      <td>0</td>\n",
       "      <td>...</td>\n",
       "      <td>0</td>\n",
       "      <td>0</td>\n",
       "      <td>0</td>\n",
       "      <td>0</td>\n",
       "      <td>0</td>\n",
       "      <td>0</td>\n",
       "      <td>0</td>\n",
       "      <td>0</td>\n",
       "      <td>0</td>\n",
       "      <td>1</td>\n",
       "    </tr>\n",
       "    <tr>\n",
       "      <th>3</th>\n",
       "      <td>1</td>\n",
       "      <td>35.0</td>\n",
       "      <td>1</td>\n",
       "      <td>0</td>\n",
       "      <td>53.1000</td>\n",
       "      <td>1</td>\n",
       "      <td>1</td>\n",
       "      <td>0</td>\n",
       "      <td>0</td>\n",
       "      <td>0</td>\n",
       "      <td>...</td>\n",
       "      <td>0</td>\n",
       "      <td>0</td>\n",
       "      <td>0</td>\n",
       "      <td>0</td>\n",
       "      <td>0</td>\n",
       "      <td>0</td>\n",
       "      <td>0</td>\n",
       "      <td>0</td>\n",
       "      <td>0</td>\n",
       "      <td>1</td>\n",
       "    </tr>\n",
       "    <tr>\n",
       "      <th>4</th>\n",
       "      <td>3</td>\n",
       "      <td>35.0</td>\n",
       "      <td>0</td>\n",
       "      <td>0</td>\n",
       "      <td>8.0500</td>\n",
       "      <td>0</td>\n",
       "      <td>0</td>\n",
       "      <td>1</td>\n",
       "      <td>0</td>\n",
       "      <td>0</td>\n",
       "      <td>...</td>\n",
       "      <td>0</td>\n",
       "      <td>0</td>\n",
       "      <td>0</td>\n",
       "      <td>0</td>\n",
       "      <td>0</td>\n",
       "      <td>0</td>\n",
       "      <td>0</td>\n",
       "      <td>0</td>\n",
       "      <td>0</td>\n",
       "      <td>1</td>\n",
       "    </tr>\n",
       "  </tbody>\n",
       "</table>\n",
       "<p>5 rows × 158 columns</p>\n",
       "</div>"
      ],
      "text/plain": [
       "   Pclass   Age  SibSp  Parch     Fare  InACabin  Sex_female  Sex_male  \\\n",
       "0       3  22.0      1      0   7.2500         0           0         1   \n",
       "1       1  38.0      1      0  71.2833         1           1         0   \n",
       "2       3  26.0      0      0   7.9250         0           1         0   \n",
       "3       1  35.0      1      0  53.1000         1           1         0   \n",
       "4       3  35.0      0      0   8.0500         0           0         1   \n",
       "\n",
       "   Cabin_A10  Cabin_A14  ...  Cabin_F G73  Cabin_F2  Cabin_F33  Cabin_F38  \\\n",
       "0          0          0  ...            0         0          0          0   \n",
       "1          0          0  ...            0         0          0          0   \n",
       "2          0          0  ...            0         0          0          0   \n",
       "3          0          0  ...            0         0          0          0   \n",
       "4          0          0  ...            0         0          0          0   \n",
       "\n",
       "   Cabin_F4  Cabin_G6  Cabin_T  Embarked_C  Embarked_Q  Embarked_S  \n",
       "0         0         0        0           0           0           1  \n",
       "1         0         0        0           1           0           0  \n",
       "2         0         0        0           0           0           1  \n",
       "3         0         0        0           0           0           1  \n",
       "4         0         0        0           0           0           1  \n",
       "\n",
       "[5 rows x 158 columns]"
      ]
     },
     "execution_count": 13,
     "metadata": {},
     "output_type": "execute_result"
    }
   ],
   "source": [
    "# Don't use PassengerId name, ticket columns, as they are unique to individual and\n",
    "# does not contain useful information.\n",
    "train_data['InACabin']=train_data['Cabin'].apply(lambda x: 0 if pd.isna(x) else 1)\n",
    "Features = ['Pclass','Sex','Age', 'SibSp','Parch','Fare','Cabin','Embarked','InACabin']   \n",
    "X_add =pd.get_dummies(train_data[Features])\n",
    "print('Training data size is',X.shape)\n",
    "X_add.head()"
   ]
  },
  {
   "cell_type": "code",
   "execution_count": 14,
   "id": "1ad1439c",
   "metadata": {
    "execution": {
     "iopub.execute_input": "2022-04-16T19:04:14.655469Z",
     "iopub.status.busy": "2022-04-16T19:04:14.654697Z",
     "iopub.status.idle": "2022-04-16T19:04:14.662049Z",
     "shell.execute_reply": "2022-04-16T19:04:14.660887Z",
     "shell.execute_reply.started": "2022-04-16T17:45:51.589420Z"
    },
    "papermill": {
     "duration": 0.056827,
     "end_time": "2022-04-16T19:04:14.662229",
     "exception": false,
     "start_time": "2022-04-16T19:04:14.605402",
     "status": "completed"
    },
    "tags": []
   },
   "outputs": [
    {
     "name": "stdout",
     "output_type": "stream",
     "text": [
      "Training data size is (891, 5)\n",
      "Pclass        0\n",
      "Age           0\n",
      "SibSp         0\n",
      "Parch         0\n",
      "Fare          0\n",
      "InACabin      0\n",
      "Sex_male      0\n",
      "Embarked_Q    0\n",
      "Embarked_S    0\n",
      "dtype: int64\n"
     ]
    }
   ],
   "source": [
    "#delete the Cabin related columns cause it generated too many new columns after decoding\n",
    "Features = ['Pclass','Sex','Age', 'SibSp','Parch','Fare','Embarked','InACabin']\n",
    "X_add =pd.get_dummies(train_data[Features],drop_first=True)\n",
    "X_add = X_add.fillna(X_add.mean())\n",
    "print('Training data size is',X.shape)\n",
    "X_add.head()\n",
    "# After imputing, there is no missing values in the features data to be used from training the new model.\n",
    "print(X_add.isnull().sum())"
   ]
  },
  {
   "cell_type": "code",
   "execution_count": 15,
   "id": "4ebe3581",
   "metadata": {
    "execution": {
     "iopub.execute_input": "2022-04-16T19:04:14.726698Z",
     "iopub.status.busy": "2022-04-16T19:04:14.724289Z",
     "iopub.status.idle": "2022-04-16T19:04:16.393893Z",
     "shell.execute_reply": "2022-04-16T19:04:16.394461Z",
     "shell.execute_reply.started": "2022-04-16T17:59:51.270118Z"
    },
    "papermill": {
     "duration": 1.705426,
     "end_time": "2022-04-16T19:04:16.394646",
     "exception": false,
     "start_time": "2022-04-16T19:04:14.689220",
     "status": "completed"
    },
    "tags": []
   },
   "outputs": [
    {
     "name": "stdout",
     "output_type": "stream",
     "text": [
      "CV accuracy scores: [0.8        0.82022472 0.75280899 0.87640449 0.92134831 0.80898876\n",
      " 0.79775281 0.7752809  0.87640449 0.83146067]\n",
      "CV accuracy: 0.826 +/- 0.049\n",
      " 1) Sex_male                       0.461807\n",
      " 2) Fare                           0.150010\n",
      " 3) Pclass                         0.118828\n",
      " 4) Age                            0.092334\n",
      " 5) InACabin                       0.079159\n",
      " 6) SibSp                          0.045460\n",
      " 7) Parch                          0.026210\n",
      " 8) Embarked_S                     0.017281\n",
      " 9) Embarked_Q                     0.008912\n"
     ]
    }
   ],
   "source": [
    "from sklearn.model_selection import cross_val_score\n",
    "model_add = RandomForestClassifier(n_estimators=100, max_depth=5, random_state=1)\n",
    "scores_add = cross_val_score(estimator = model_add,\n",
    "                        X =X_add,\n",
    "                        y = y,\n",
    "                        cv = 10,\n",
    "                        n_jobs = 1)\n",
    "print('CV accuracy scores: %s' %scores_add)\n",
    "print('CV accuracy: %.3f +/- %.3f' % (np.mean(scores_add),np.std(scores_add)))\n",
    "\n",
    "model_add.fit(X_add,y)\n",
    "importances = model_add.feature_importances_\n",
    "indices = np.argsort(importances)[::-1]\n",
    "\n",
    "feat_labels = X_add.columns\n",
    "for f in range(X_add.shape[1]):\n",
    "    print(\"%2d) %-*s %f\" % (f+1,30,\n",
    "                            feat_labels[indices[f]],\n",
    "                            importances[indices[f]]))"
   ]
  },
  {
   "cell_type": "markdown",
   "id": "ef504f53",
   "metadata": {
    "papermill": {
     "duration": 0.039728,
     "end_time": "2022-04-16T19:04:16.474515",
     "exception": false,
     "start_time": "2022-04-16T19:04:16.434787",
     "status": "completed"
    },
    "tags": []
   },
   "source": []
  },
  {
   "cell_type": "code",
   "execution_count": 16,
   "id": "1ecc8b5d",
   "metadata": {
    "execution": {
     "iopub.execute_input": "2022-04-16T19:04:16.558687Z",
     "iopub.status.busy": "2022-04-16T19:04:16.557971Z",
     "iopub.status.idle": "2022-04-16T19:04:16.561578Z",
     "shell.execute_reply": "2022-04-16T19:04:16.561012Z",
     "shell.execute_reply.started": "2022-04-16T17:55:22.809978Z"
    },
    "papermill": {
     "duration": 0.047376,
     "end_time": "2022-04-16T19:04:16.561732",
     "exception": false,
     "start_time": "2022-04-16T19:04:16.514356",
     "status": "completed"
    },
    "tags": []
   },
   "outputs": [
    {
     "name": "stdout",
     "output_type": "stream",
     "text": [
      "[6 4 0 1 5 2 3 8 7]\n",
      "Features are Index(['Pclass', 'Age', 'SibSp', 'Parch', 'Fare', 'InACabin', 'Sex_male',\n",
      "       'Embarked_Q', 'Embarked_S'],\n",
      "      dtype='object'), length is 9\n"
     ]
    }
   ],
   "source": [
    "print(indices)\n",
    "print('Features are %s, length is %d'%(feat_labels,len(feat_labels)))"
   ]
  },
  {
   "cell_type": "code",
   "execution_count": 17,
   "id": "4e7ec1ab",
   "metadata": {
    "execution": {
     "iopub.execute_input": "2022-04-16T19:04:16.646454Z",
     "iopub.status.busy": "2022-04-16T19:04:16.645613Z",
     "iopub.status.idle": "2022-04-16T19:04:16.649969Z",
     "shell.execute_reply": "2022-04-16T19:04:16.650571Z",
     "shell.execute_reply.started": "2022-04-16T17:59:17.939821Z"
    },
    "papermill": {
     "duration": 0.049205,
     "end_time": "2022-04-16T19:04:16.650769",
     "exception": false,
     "start_time": "2022-04-16T19:04:16.601564",
     "status": "completed"
    },
    "tags": []
   },
   "outputs": [
    {
     "data": {
      "text/plain": [
       "Index(['Pclass', 'Age', 'SibSp', 'Parch', 'Fare', 'InACabin', 'Sex_male',\n",
       "       'Embarked_Q', 'Embarked_S'],\n",
       "      dtype='object')"
      ]
     },
     "execution_count": 17,
     "metadata": {},
     "output_type": "execute_result"
    }
   ],
   "source": [
    "X_add.columns"
   ]
  },
  {
   "cell_type": "code",
   "execution_count": null,
   "id": "5ac460c6",
   "metadata": {
    "papermill": {
     "duration": 0.041338,
     "end_time": "2022-04-16T19:04:16.734159",
     "exception": false,
     "start_time": "2022-04-16T19:04:16.692821",
     "status": "completed"
    },
    "tags": []
   },
   "outputs": [],
   "source": []
  }
 ],
 "metadata": {
  "kernelspec": {
   "display_name": "Python 3",
   "language": "python",
   "name": "python3"
  },
  "language_info": {
   "codemirror_mode": {
    "name": "ipython",
    "version": 3
   },
   "file_extension": ".py",
   "mimetype": "text/x-python",
   "name": "python",
   "nbconvert_exporter": "python",
   "pygments_lexer": "ipython3",
   "version": "3.7.12"
  },
  "papermill": {
   "default_parameters": {},
   "duration": 98.849376,
   "end_time": "2022-04-16T19:04:17.588737",
   "environment_variables": {},
   "exception": null,
   "input_path": "__notebook__.ipynb",
   "output_path": "__notebook__.ipynb",
   "parameters": {},
   "start_time": "2022-04-16T19:02:38.739361",
   "version": "2.3.3"
  }
 },
 "nbformat": 4,
 "nbformat_minor": 5
}
